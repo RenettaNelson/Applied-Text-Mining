{
 "cells": [
  {
   "attachments": {},
   "cell_type": "markdown",
   "metadata": {},
   "source": [
    "## Naive Bayes on Political Text\n",
    "\n",
    "### Renetta Nelson\n",
    "### June 5, 2023\n",
    "\n",
    "In this notebook we use Naive Bayes to explore and classify political data. See the `README.md` for full details."
   ]
  },
  {
   "cell_type": "code",
   "execution_count": 5,
   "metadata": {},
   "outputs": [],
   "source": [
    "import sqlite3\n",
    "import nltk\n",
    "import random\n",
    "import re\n",
    "import numpy as np\n",
    "from collections import Counter, defaultdict\n",
    "\n",
    "from nltk.corpus import stopwords\n",
    "from string import punctuation\n",
    "\n",
    "# Feel free to include your text patterns functions\n",
    "#from text_functions_solutions import clean_tokenize, get_patterns"
   ]
  },
  {
   "cell_type": "code",
   "execution_count": 4,
   "metadata": {},
   "outputs": [],
   "source": [
    "convention_db = sqlite3.connect(\"2020_Conventions.db\")\n",
    "convention_cur = convention_db.cursor()"
   ]
  },
  {
   "attachments": {},
   "cell_type": "markdown",
   "metadata": {},
   "source": [
    "### Part 1: Exploratory Naive Bayes\n",
    "\n",
    "We'll first build a NB model on the convention data itself, as a way to understand what words distinguish between the two parties. This is analogous to what we did in the \"Comparing Groups\" class work. First, pull in the text \n",
    "for each party and prepare it for use in Naive Bayes.  "
   ]
  },
  {
   "cell_type": "code",
   "execution_count": 112,
   "metadata": {},
   "outputs": [],
   "source": [
    "# Place any addtional functions or constants you need here. \n",
    "\n",
    "# Some punctuation variations\n",
    "punctuation = set(punctuation) # speeds up comparison\n",
    "tw_punct = punctuation - {\"#\"}\n",
    "\n",
    "# Stopwords\n",
    "sw = stopwords.words(\"english\")\n",
    "\n",
    "# Two useful regex\n",
    "whitespace_pattern = re.compile(r\"\\s+\")\n",
    "hashtag_pattern = re.compile(r\"^#[0-9a-zA-Z]+\")\n",
    "\n",
    "\n",
    "# and now our functions\n",
    "def descriptive_stats(tokens, num_tokens = 5, verbose=True) :\n",
    "    \"\"\"\n",
    "        Given a list of tokens, print number of tokens, number of unique tokens, \n",
    "        number of characters, lexical diversity, and num_tokens most common\n",
    "        tokens. Return a list of \n",
    "    \"\"\"\n",
    "\n",
    "    # Place your Module 2 solution here\n",
    "    \n",
    "    num_characters = 0\n",
    "    for i in tokens:\n",
    "        num_characters = num_characters + len(i)\n",
    "\n",
    "\n",
    "    # Fill in the correct values here. \n",
    "    num_tokens = len(tokens)\n",
    "    num_unique_tokens = len(set(tokens))\n",
    "    lexical_diversity = num_unique_tokens / num_tokens\n",
    "    num_characters = num_characters #len(list(tokens)) #(nltk.FreqDist(nltk.Text(tokens))).N()\n",
    "    \n",
    "    if verbose :        \n",
    "        print(f\"There are {num_tokens} tokens in the data.\")\n",
    "        print(f\"There are {num_unique_tokens} unique tokens in the data.\")\n",
    "        print(f\"There are {num_characters} characters in the data.\")\n",
    "        print(f\"The lexical diversity is {lexical_diversity:.3f} in the data.\")\n",
    "    \n",
    "        # print the five most common tokens\n",
    "        \n",
    "    return([num_tokens, num_unique_tokens,\n",
    "            lexical_diversity,\n",
    "            num_characters])\n",
    "\n",
    "\n",
    "\n",
    "\n",
    "def remove_stop(tokens) :\n",
    "    # modify this function to remove stopwords\n",
    "    new_tokens = []\n",
    "    rmstop_tokens = tokens.split(\" \")\n",
    "    #print(rmstop_tokens)\n",
    "    #rmstop_tokens = rmstop_tokens.lower()\n",
    "\n",
    "    for word in rmstop_tokens:\n",
    "        if word not in sw:\n",
    "            #word.lower()\n",
    "            #print(word)\n",
    "            new_tokens.append(word)\n",
    "\n",
    "\n",
    "    #return (t for t in rmstop_tokens if t.lower() not in sw)\n",
    "    return(new_tokens)\n",
    " \n",
    "def remove_punctuation(text, punct_set=tw_punct) : \n",
    "    return(\"\".join([ch for ch in text if ch not in punct_set]))\n",
    "\n",
    "def tokenize(text) : \n",
    "    \"\"\" Splitting on whitespace rather than the book's tokenize function. That \n",
    "        function will drop tokens like '#hashtag' or '2A', which we need for Twitter. \"\"\"\n",
    "    \n",
    "    # modify this function to return tokens\n",
    "    #for i in text:\n",
    "    #    text = i.split(\" \")\n",
    "\n",
    "    return(text)\n",
    "\n",
    "def prepare(text, pipeline) : \n",
    "    tokens = str(text)\n",
    "    \n",
    "    for transform in pipeline : \n",
    "        tokens = transform(tokens)\n",
    "        \n",
    "    return(tokens)"
   ]
  },
  {
   "cell_type": "code",
   "execution_count": 113,
   "metadata": {},
   "outputs": [],
   "source": [
    "\n",
    "my_pipeline = [str.lower, remove_punctuation, tokenize, remove_stop]\n",
    "\n",
    "convention_data = []\n",
    "\n",
    "# fill this list up with items that are themselves lists. The \n",
    "# first element in the sublist should be the cleaned and tokenized\n",
    "# text in a single string. The second element should be the party. \n",
    "\n",
    "query_results = convention_cur.execute(\n",
    "                            '''\n",
    "                            SELECT text, party\n",
    "                            FROM conventions\n",
    "                            WHERE speaker != \"Unknown\";\n",
    "\n",
    "                            ''')\n",
    "\n",
    "for row in query_results :\n",
    "    # store the results in convention_data\n",
    "\n",
    "    results = prepare(row[0], my_pipeline)\n",
    "\n",
    "    convention_data.append([results, row[1]])\n",
    "\n",
    "\n",
    "\n"
   ]
  },
  {
   "attachments": {},
   "cell_type": "markdown",
   "metadata": {},
   "source": [
    "Let's look at some random entries and see if they look right. "
   ]
  },
  {
   "cell_type": "code",
   "execution_count": 104,
   "metadata": {},
   "outputs": [
    {
     "data": {
      "text/plain": [
       "[[['good'], 'Democratic'],\n",
       " [['eating', 'freezer', 'grandma', 'doesn’t', 'see'], 'Democratic'],\n",
       " [['that’s',\n",
       "   'first',\n",
       "   'time',\n",
       "   'president',\n",
       "   'trump',\n",
       "   'showed',\n",
       "   'iowans',\n",
       "   'rely',\n",
       "   '2019',\n",
       "   '100',\n",
       "   'year',\n",
       "   'floods',\n",
       "   'breached',\n",
       "   'nearly',\n",
       "   'every',\n",
       "   'levy',\n",
       "   'devastated',\n",
       "   'communities',\n",
       "   'large',\n",
       "   'small',\n",
       "   'along',\n",
       "   'missouri',\n",
       "   'river',\n",
       "   'iowa',\n",
       "   'nebraska',\n",
       "   'missouri',\n",
       "   'president',\n",
       "   'approved',\n",
       "   'request',\n",
       "   'aid',\n",
       "   'record',\n",
       "   'time',\n",
       "   'two',\n",
       "   'days',\n",
       "   'well',\n",
       "   'year',\n",
       "   'less',\n",
       "   '24',\n",
       "   'hours',\n",
       "   'whether',\n",
       "   'it’s',\n",
       "   'providing',\n",
       "   'needed',\n",
       "   'relief',\n",
       "   'farmers',\n",
       "   'target',\n",
       "   'china’s',\n",
       "   'unfair',\n",
       "   'trade',\n",
       "   'practices',\n",
       "   'hammering',\n",
       "   'new',\n",
       "   'free',\n",
       "   'fair',\n",
       "   'trade',\n",
       "   'deals',\n",
       "   'fighting',\n",
       "   'workers',\n",
       "   'small',\n",
       "   'businesses',\n",
       "   'hit',\n",
       "   'hard',\n",
       "   'covid19',\n",
       "   'president',\n",
       "   'vice',\n",
       "   'president',\n",
       "   'get',\n",
       "   'things',\n",
       "   'done',\n",
       "   'president',\n",
       "   'trump',\n",
       "   'leadership',\n",
       "   'country',\n",
       "   'able',\n",
       "   'bounce',\n",
       "   'back',\n",
       "   'setbacks',\n",
       "   'see',\n",
       "   'opportunity',\n",
       "   'grow',\n",
       "   'thrive'],\n",
       "  'Republican'],\n",
       " [['three', 'bond', 'forged', 'sorrow', 'expanded', 'joy', 'jill', 'entered'],\n",
       "  'Democratic'],\n",
       " [['hoped',\n",
       "   'convention',\n",
       "   'city',\n",
       "   'festivals',\n",
       "   'milwaukee',\n",
       "   'wisconsin',\n",
       "   'year',\n",
       "   'course',\n",
       "   'we’re',\n",
       "   'able',\n",
       "   'we’ll',\n",
       "   'hearing',\n",
       "   'several',\n",
       "   'wisconsin’s',\n",
       "   'leaders',\n",
       "   'throughout',\n",
       "   'convention',\n",
       "   'starting',\n",
       "   'congresswoman',\n",
       "   'gwen',\n",
       "   'moore'],\n",
       "  'Democratic'],\n",
       " [['i’m',\n",
       "   'mariska',\n",
       "   'hargitay',\n",
       "   'started',\n",
       "   'research',\n",
       "   'play',\n",
       "   'detective',\n",
       "   'olivia',\n",
       "   'benson',\n",
       "   'law',\n",
       "   'order',\n",
       "   'svu',\n",
       "   '20',\n",
       "   'years',\n",
       "   'ago',\n",
       "   'shocked',\n",
       "   'find',\n",
       "   'many',\n",
       "   'people',\n",
       "   'including',\n",
       "   'children',\n",
       "   'experienced',\n",
       "   'physical',\n",
       "   'sexual',\n",
       "   'abuse',\n",
       "   'statistics',\n",
       "   'fueled',\n",
       "   'resolve',\n",
       "   'committed',\n",
       "   'movement',\n",
       "   'end',\n",
       "   'violence'],\n",
       "  'Democratic'],\n",
       " [['everything', 'family', 'we’ve', 'always', 'done', 'everything', 'family'],\n",
       "  'Democratic'],\n",
       " [['i’m',\n",
       "   'mother',\n",
       "   'five',\n",
       "   'grandmother',\n",
       "   'nine',\n",
       "   'i’m',\n",
       "   'inaudible',\n",
       "   '012131',\n",
       "   'power',\n",
       "   'speaker',\n",
       "   'awesome',\n",
       "   'awesome',\n",
       "   'want',\n",
       "   'go',\n",
       "   'arena',\n",
       "   'prepared',\n",
       "   'take',\n",
       "   'punch',\n",
       "   'also',\n",
       "   'prepared',\n",
       "   'throw',\n",
       "   'punch',\n",
       "   'children'],\n",
       "  'Democratic'],\n",
       " [['arizona'], 'Democratic'],\n",
       " [['people', 'say', '“we’re', 'oppressed', 'united', 'states”'], 'Republican']]"
      ]
     },
     "execution_count": 104,
     "metadata": {},
     "output_type": "execute_result"
    }
   ],
   "source": [
    "random.choices(convention_data,k=10)"
   ]
  },
  {
   "attachments": {},
   "cell_type": "markdown",
   "metadata": {},
   "source": [
    "If that looks good, we now need to make our function to turn these into features. In my solution, I wanted to keep the number of features reasonable, so I only used words that occur at least `word_cutoff` times. Here's the code to test that if you want it. "
   ]
  },
  {
   "cell_type": "code",
   "execution_count": 147,
   "metadata": {},
   "outputs": [
    {
     "name": "stdout",
     "output_type": "stream",
     "text": [
      "With a word cutoff of 5, we have 2360 as features in the model.\n"
     ]
    }
   ],
   "source": [
    "word_cutoff = 5\n",
    "\n",
    "tokens = [w for t, p in convention_data for w in t]\n",
    "\n",
    "word_dist = nltk.FreqDist(tokens)\n",
    "\n",
    "feature_words = set()\n",
    "\n",
    "for word, count in word_dist.items() :\n",
    "    if count > word_cutoff :\n",
    "        feature_words.add(word)\n",
    "        \n",
    "print(f\"With a word cutoff of {word_cutoff}, we have {len(feature_words)} as features in the model.\")\n"
   ]
  },
  {
   "cell_type": "code",
   "execution_count": 118,
   "metadata": {},
   "outputs": [],
   "source": [
    "def conv_features(text,fw) :\n",
    "    \"\"\"Given some text, this returns a dictionary holding the\n",
    "       feature words.\n",
    "       \n",
    "       Args: \n",
    "            * text: a piece of text in a continuous string. Assumes\n",
    "            text has been cleaned and case folded.\n",
    "            * fw: the *feature words* that we're considering. A word \n",
    "            in `text` must be in fw in order to be returned. This \n",
    "            prevents us from considering very rarely occurring words.\n",
    "        \n",
    "       Returns: \n",
    "            A dictionary with the words in `text` that appear in `fw`. \n",
    "            Words are only counted once. \n",
    "            If `text` were \"quick quick brown fox\" and `fw` = {'quick','fox','jumps'},\n",
    "            then this would return a dictionary of \n",
    "            {'quick' : True,\n",
    "             'fox' :    True}\n",
    "        \n",
    "    \"\"\"\n",
    "    \n",
    "    # Your code here\n",
    "    \n",
    "    ret_dict = dict()\n",
    "    \n",
    "    text2 = text.split(\" \")\n",
    "\n",
    "    for words in text2:\n",
    "          if words in fw:\n",
    "               ret_dict[words] = True\n",
    "          else:\n",
    "               continue\n",
    "\n",
    "\n",
    "\n",
    "    #print(ret_dict)\n",
    "    return(ret_dict)\n",
    "\n",
    "\n",
    "\n",
    "\n",
    "\n",
    "def conv_features2(text,fw) :\n",
    "\n",
    "    ret_dict = dict()\n",
    "    \n",
    "    for words in text:\n",
    "          if words in fw:\n",
    "               ret_dict[words] = True\n",
    "          else:\n",
    "               continue\n",
    "\n",
    "    return(ret_dict)\n",
    "\n",
    "\n",
    "\n"
   ]
  },
  {
   "cell_type": "code",
   "execution_count": 115,
   "metadata": {},
   "outputs": [],
   "source": [
    "\n",
    "assert(len(feature_words)>0)\n",
    "assert(conv_features(\"donald is the president\",feature_words)==\n",
    "       {'donald': True,'president': True})\n",
    "assert(conv_features(\"people are american in america\",feature_words)==\n",
    "                     {'america':True,'american':True,\"people\":True})"
   ]
  },
  {
   "attachments": {},
   "cell_type": "markdown",
   "metadata": {},
   "source": [
    "Now we'll build our feature set. Out of curiosity I did a train/test split to see how accurate the classifier was, but we don't strictly need to since this analysis is exploratory. "
   ]
  },
  {
   "cell_type": "code",
   "execution_count": 119,
   "metadata": {},
   "outputs": [],
   "source": [
    "featuresets = [(conv_features2(text,feature_words), party) for (text, party) in convention_data]"
   ]
  },
  {
   "cell_type": "code",
   "execution_count": 120,
   "metadata": {},
   "outputs": [],
   "source": [
    "random.seed(20220507)\n",
    "random.shuffle(featuresets)\n",
    "\n",
    "test_size = 500"
   ]
  },
  {
   "cell_type": "code",
   "execution_count": 121,
   "metadata": {},
   "outputs": [
    {
     "name": "stdout",
     "output_type": "stream",
     "text": [
      "0.52\n"
     ]
    }
   ],
   "source": [
    "test_set, train_set = featuresets[:test_size], featuresets[test_size:]\n",
    "classifier = nltk.NaiveBayesClassifier.train(train_set)\n",
    "print(nltk.classify.accuracy(classifier, test_set))"
   ]
  },
  {
   "cell_type": "code",
   "execution_count": 122,
   "metadata": {},
   "outputs": [
    {
     "name": "stdout",
     "output_type": "stream",
     "text": [
      "Most Informative Features\n",
      "                 radical = True           Republ : Democr =     38.0 : 1.0\n",
      "                   media = True           Republ : Democr =     35.9 : 1.0\n",
      "                   votes = True           Democr : Republ =     22.8 : 1.0\n",
      "             enforcement = True           Republ : Democr =     18.4 : 1.0\n",
      "                   crime = True           Republ : Democr =     17.2 : 1.0\n",
      "                 destroy = True           Republ : Democr =     16.2 : 1.0\n",
      "                freedoms = True           Republ : Democr =     16.2 : 1.0\n",
      "                   china = True           Republ : Democr =     15.4 : 1.0\n",
      "                  earned = True           Republ : Democr =     14.1 : 1.0\n",
      "                  defund = True           Republ : Democr =     13.0 : 1.0\n",
      "                  lowest = True           Republ : Democr =     13.0 : 1.0\n",
      "              prosperity = True           Republ : Democr =     13.0 : 1.0\n",
      "                   taxes = True           Republ : Democr =     12.8 : 1.0\n",
      "                    mike = True           Republ : Democr =     12.2 : 1.0\n",
      "                 beliefs = True           Republ : Democr =     12.0 : 1.0\n",
      "                religion = True           Republ : Democr =     12.0 : 1.0\n",
      "                 violent = True           Republ : Democr =     12.0 : 1.0\n",
      "                      50 = True           Republ : Democr =     11.6 : 1.0\n",
      "                 african = True           Republ : Democr =     10.9 : 1.0\n",
      "                received = True           Republ : Democr =     10.9 : 1.0\n",
      "                 climate = True           Democr : Republ =     10.9 : 1.0\n",
      "                  record = True           Republ : Democr =     10.0 : 1.0\n",
      "               countries = True           Republ : Democr =      9.9 : 1.0\n",
      "                   enemy = True           Republ : Democr =      9.9 : 1.0\n",
      "                    seem = True           Republ : Democr =      9.9 : 1.0\n"
     ]
    }
   ],
   "source": [
    "classifier.show_most_informative_features(25)"
   ]
  },
  {
   "attachments": {},
   "cell_type": "markdown",
   "metadata": {},
   "source": [
    "Write a little prose here about what you see in the classifier. Anything odd or interesting?\n",
    "\n",
    "### My Observations\n",
    "\n",
    "From my observations, the top features are mainly found more in the Republican twees. There were only two times that one of the top features were found more in the Democratic tweets than the Republican.\n",
    "\n"
   ]
  },
  {
   "attachments": {},
   "cell_type": "markdown",
   "metadata": {},
   "source": [
    "## Part 2: Classifying Congressional Tweets\n",
    "\n",
    "In this part we apply the classifer we just built to a set of tweets by people running for congress\n",
    "in 2018. These tweets are stored in the database `congressional_data.db`. That DB is funky, so I'll\n",
    "give you the query I used to pull out the tweets. Note that this DB has some big tables and \n",
    "is unindexed, so the query takes a minute or two to run on my machine."
   ]
  },
  {
   "cell_type": "code",
   "execution_count": 123,
   "metadata": {},
   "outputs": [],
   "source": [
    "cong_db = sqlite3.connect(\"congressional_data.db\")\n",
    "cong_cur = cong_db.cursor()"
   ]
  },
  {
   "cell_type": "code",
   "execution_count": 124,
   "metadata": {},
   "outputs": [],
   "source": [
    "results = cong_cur.execute(\n",
    "        '''\n",
    "           SELECT DISTINCT \n",
    "                  cd.candidate, \n",
    "                  cd.party,\n",
    "                  tw.tweet_text\n",
    "           FROM candidate_data cd \n",
    "           INNER JOIN tweets tw ON cd.twitter_handle = tw.handle \n",
    "               AND cd.candidate == tw.candidate \n",
    "               AND cd.district == tw.district\n",
    "           WHERE cd.party in ('Republican','Democratic') \n",
    "               AND tw.tweet_text NOT LIKE '%RT%'\n",
    "        ''')\n",
    "\n",
    "results = list(results) # Just to store it, since the query is time consuming"
   ]
  },
  {
   "cell_type": "code",
   "execution_count": 125,
   "metadata": {},
   "outputs": [],
   "source": [
    "tweet_data = []\n",
    "\n",
    "# Now fill up tweet_data with sublists like we did on the convention speeches.\n",
    "# Note that this may take a bit of time, since we have a lot of tweets.\n",
    "\n",
    "for row in results :\n",
    "    # store the results in convention_data\n",
    "\n",
    "    results2 = prepare(row[0], my_pipeline)\n",
    "\n",
    "    tweet_data.append([results2, row[1]])\n",
    "\n"
   ]
  },
  {
   "cell_type": "code",
   "execution_count": 148,
   "metadata": {},
   "outputs": [],
   "source": [
    "\n",
    "featuresets2 = [(conv_features2(text,feature_words), party) for (text, party) in tweet_data]\n",
    "\n",
    "\n",
    "test_set2, train_set2 = featuresets2[:test_size], featuresets2[test_size:]\n",
    "classifier2 = nltk.NaiveBayesClassifier.train(train_set2)\n"
   ]
  },
  {
   "attachments": {},
   "cell_type": "markdown",
   "metadata": {},
   "source": [
    "There are a lot of tweets here. Let's take a random sample and see how our classifer does. I'm guessing it won't be too great given the performance on the convention speeches..."
   ]
  },
  {
   "cell_type": "code",
   "execution_count": 126,
   "metadata": {},
   "outputs": [],
   "source": [
    "random.seed(20201014)\n",
    "\n",
    "tweet_data_sample = random.choices(tweet_data,k=10)"
   ]
  },
  {
   "cell_type": "code",
   "execution_count": 141,
   "metadata": {},
   "outputs": [
    {
     "name": "stdout",
     "output_type": "stream",
     "text": [
      "Here's our (cleaned) tweet: ['jimmy', 'panetta']\n",
      "Actual party is Democratic and our classifer says Democratic.\n",
      "\n",
      "Here's our (cleaned) tweet: ['marcy', 'kaptur']\n",
      "Actual party is Democratic and our classifer says Democratic.\n",
      "\n",
      "Here's our (cleaned) tweet: ['debbie', 'wasserman', 'schultz']\n",
      "Actual party is Democratic and our classifer says Democratic.\n",
      "\n",
      "Here's our (cleaned) tweet: ['dave', 'brat']\n",
      "Actual party is Republican and our classifer says Republican.\n",
      "\n",
      "Here's our (cleaned) tweet: ['antonio', 'sabàto', 'jr']\n",
      "Actual party is Republican and our classifer says Republican.\n",
      "\n",
      "Here's our (cleaned) tweet: ['marcia', 'fudge']\n",
      "Actual party is Democratic and our classifer says Democratic.\n",
      "\n",
      "Here's our (cleaned) tweet: ['scott', 'peters']\n",
      "Actual party is Democratic and our classifer says Republican.\n",
      "\n",
      "Here's our (cleaned) tweet: ['mariah', 'phillips']\n",
      "Actual party is Democratic and our classifer says Democratic.\n",
      "\n",
      "Here's our (cleaned) tweet: ['jimmy', 'panetta']\n",
      "Actual party is Democratic and our classifer says Democratic.\n",
      "\n",
      "Here's our (cleaned) tweet: ['lucille', 'roybalallard']\n",
      "Actual party is Democratic and our classifer says Democratic.\n",
      "\n"
     ]
    }
   ],
   "source": [
    "\n",
    "for tweet, party in tweet_data_sample :\n",
    "\n",
    "    featuresets2 = conv_features2(tweet, feature_words)\n",
    "\n",
    "    estimated_party = classifier2.classify(featuresets2)\n",
    "    # Fill in the right-hand side above with code that estimates the actual party\n",
    "\n",
    "    print(f\"Here's our (cleaned) tweet: {tweet}\")\n",
    "    print(f\"Actual party is {party} and our classifer says {estimated_party}.\")\n",
    "    print(\"\")\n",
    "    "
   ]
  },
  {
   "attachments": {},
   "cell_type": "markdown",
   "metadata": {},
   "source": [
    "Now that we've looked at it some, let's score a bunch and see how we're doing."
   ]
  },
  {
   "cell_type": "code",
   "execution_count": 145,
   "metadata": {},
   "outputs": [],
   "source": [
    "# dictionary of counts by actual party and estimated party. \n",
    "# first key is actual, second is estimated\n",
    "parties = ['Republican','Democratic']\n",
    "results = defaultdict(lambda: defaultdict(int))\n",
    "\n",
    "for p in parties :\n",
    "    for p1 in parties :\n",
    "        results[p][p1] = 0\n",
    "\n",
    "\n",
    "num_to_score = 10000\n",
    "random.shuffle(tweet_data)\n",
    "\n",
    "for idx, tp in enumerate(tweet_data) :\n",
    "    tweet, party = tp    \n",
    "    # Now do the same thing as above, but we store the results rather\n",
    "    # than printing them. \n",
    "\n",
    "    featuresets2 = conv_features2(tweet, feature_words)\n",
    "   \n",
    "    # get the estimated party\n",
    "    estimated_party = classifier2.classify(featuresets2)\n",
    "    \n",
    "    results[party][estimated_party] += 1\n",
    "    \n",
    "    if idx > num_to_score : \n",
    "        break"
   ]
  },
  {
   "cell_type": "code",
   "execution_count": 146,
   "metadata": {},
   "outputs": [
    {
     "data": {
      "text/plain": [
       "defaultdict(<function __main__.<lambda>()>,\n",
       "            {'Republican': defaultdict(int,\n",
       "                         {'Republican': 1166, 'Democratic': 3125}),\n",
       "             'Democratic': defaultdict(int,\n",
       "                         {'Republican': 571, 'Democratic': 5140})})"
      ]
     },
     "execution_count": 146,
     "metadata": {},
     "output_type": "execute_result"
    }
   ],
   "source": [
    "results"
   ]
  },
  {
   "attachments": {},
   "cell_type": "markdown",
   "metadata": {},
   "source": [
    "### Reflections\n",
    "\n",
    "For Republicans, the Democratic party was classified more than Republicans. For Democratics, the Democratic party was classfied the most."
   ]
  },
  {
   "attachments": {},
   "cell_type": "markdown",
   "metadata": {},
   "source": []
  }
 ],
 "metadata": {
  "kernelspec": {
   "display_name": "Python 3 (ipykernel)",
   "language": "python",
   "name": "python3"
  },
  "language_info": {
   "codemirror_mode": {
    "name": "ipython",
    "version": 3
   },
   "file_extension": ".py",
   "mimetype": "text/x-python",
   "name": "python",
   "nbconvert_exporter": "python",
   "pygments_lexer": "ipython3",
   "version": "3.8.0"
  }
 },
 "nbformat": 4,
 "nbformat_minor": 4
}
